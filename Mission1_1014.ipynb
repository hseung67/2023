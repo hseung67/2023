{
  "nbformat": 4,
  "nbformat_minor": 0,
  "metadata": {
    "colab": {
      "private_outputs": true,
      "provenance": [],
      "gpuType": "T4",
      "cell_execution_strategy": "setup",
      "include_colab_link": true
    },
    "kernelspec": {
      "name": "python3",
      "display_name": "Python 3"
    },
    "language_info": {
      "name": "python"
    },
    "accelerator": "GPU"
  },
  "cells": [
    {
      "cell_type": "markdown",
      "metadata": {
        "id": "view-in-github",
        "colab_type": "text"
      },
      "source": [
        "<a href=\"https://colab.research.google.com/github/hseung67/2023/blob/main/Mission1_1014.ipynb\" target=\"_parent\"><img src=\"https://colab.research.google.com/assets/colab-badge.svg\" alt=\"Open In Colab\"/></a>"
      ]
    },
    {
      "cell_type": "markdown",
      "source": [
        "## ⬜ Mission 1 Code"
      ],
      "metadata": {
        "id": "218t-XOpDF_f"
      }
    },
    {
      "cell_type": "markdown",
      "source": [
        "#### **☑ import packages** </font>\n"
      ],
      "metadata": {
        "id": "jD1VHarBsXb_"
      }
    },
    {
      "cell_type": "code",
      "source": [
        "import torch\n",
        "import numpy as np\n",
        "\n",
        "device = torch.device('cuda:0' if torch.cuda.is_available() else 'cpu')\n",
        "## cuda 사용가능 시 cuda:0 출력\n",
        "\n",
        "print(device)"
      ],
      "metadata": {
        "id": "Xjnpo0WE31mL"
      },
      "execution_count": null,
      "outputs": []
    },
    {
      "cell_type": "code",
      "source": [
        "import pandas as pd\n",
        "import numpy as np\n",
        "\n",
        "from sklearn.model_selection import train_test_split\n",
        "import matplotlib.pyplot as plt\n",
        "\n",
        "import os\n",
        "import glob\n",
        "from glob import glob\n",
        "\n",
        "import cv2"
      ],
      "metadata": {
        "id": "gfzYA2n7mlmg"
      },
      "execution_count": null,
      "outputs": []
    },
    {
      "cell_type": "code",
      "source": [
        "import tensorflow as tf\n",
        "from tensorflow.keras import layers\n",
        "from tensorflow.keras.layers import Input, Add, Dense, Activation, ZeroPadding2D, BatchNormalization, Flatten, Conv2D, AveragePooling2D, MaxPooling2D\n",
        "from tensorflow.keras.models import Model, load_model\n",
        "from tensorflow.keras.initializers import glorot_uniform\n",
        "from tensorflow.keras.callbacks import ReduceLROnPlateau\n",
        "from tensorflow.keras.optimizers import SGD"
      ],
      "metadata": {
        "id": "bvb39sBdmrLV"
      },
      "execution_count": null,
      "outputs": []
    },
    {
      "cell_type": "code",
      "source": [
        "### plotting 한글 깨짐 방지\n",
        "#!sudo apt-get install -y fonts-nanum\n",
        "#!sudo fc-cache -fv\n",
        "#!rm ~/.cache/matplotlib -rf"
      ],
      "metadata": {
        "id": "z7BCTlD7FMOT"
      },
      "execution_count": null,
      "outputs": []
    },
    {
      "cell_type": "markdown",
      "source": [
        "### 🔷 1-1. (1) 각 메뉴를 클래스로 하는 분류 데이터셋과 데이터로더를 준비"
      ],
      "metadata": {
        "id": "ihRjxrIrCyrz"
      }
    },
    {
      "cell_type": "markdown",
      "source": [
        "#### ☑ 구글 드라이브 마운트"
      ],
      "metadata": {
        "id": "iAWG45ZuUaqd"
      }
    },
    {
      "cell_type": "code",
      "source": [
        "from google.colab import drive\n",
        "drive.mount('/content/drive')"
      ],
      "metadata": {
        "id": "C6PEp9GQSrQ1"
      },
      "execution_count": null,
      "outputs": []
    },
    {
      "cell_type": "markdown",
      "source": [
        "#### ☑ 데이터 unzip"
      ],
      "metadata": {
        "id": "J85kljalOsX7"
      }
    },
    {
      "cell_type": "code",
      "source": [
        "### kfood_train file unzip\n",
        "# !unzip -qq \"/content/drive/MyDrive/kfood_train.zip\" -d \"/content/drive/MyDrive/images\""
      ],
      "metadata": {
        "id": "k5jNt2QKmtZy"
      },
      "execution_count": null,
      "outputs": []
    },
    {
      "cell_type": "code",
      "source": [
        "#path설정은 각자 설정에 맞게 바꿔주세요\n",
        "%cd /content/drive/MyDrive/datacamp/train"
      ],
      "metadata": {
        "id": "zCy6Ah6Yzgcf"
      },
      "execution_count": null,
      "outputs": []
    },
    {
      "cell_type": "code",
      "source": [
        "ls"
      ],
      "metadata": {
        "id": "GtaCK6zsTFSd"
      },
      "execution_count": null,
      "outputs": []
    },
    {
      "cell_type": "markdown",
      "source": [
        "#### ☑ labeling(멘토님 알려준 데이터로더 활용 수정)"
      ],
      "metadata": {
        "id": "PJFKZC_OSD2Y"
      }
    },
    {
      "cell_type": "code",
      "source": [
        "#csv 파일 미리 만들기\n",
        "import os\n",
        "import pandas as pd\n",
        "\n",
        "# 이미지 폴더 경로\n",
        "#image_dir = '/content/drive/MyDrive/datacamp/train'\n",
        "\n",
        "# CSV 파일 생성\n",
        "#data = []\n",
        "#for class_label, class_name in enumerate(os.listdir(image_dir)):\n",
        "#   class_path = os.path.join(image_dir, class_name)\n",
        "#    if os.path.isdir(class_path):\n",
        "#        for image_name in os.listdir(class_path):\n",
        "#            image_path = os.path.join(class_name, image_name)\n",
        "#            data.append([image_path, class_label])\n",
        "\n",
        "#df = pd.DataFrame(data, columns=['file_name', 'label'])\n",
        "#df.to_csv('/content/drive/MyDrive/datacamp/train/annotations.csv', index=False)\n"
      ],
      "metadata": {
        "id": "cbalzlacNjhs"
      },
      "execution_count": null,
      "outputs": []
    },
    {
      "cell_type": "code",
      "source": [
        "import os\n",
        "import pandas as pd\n",
        "from torchvision.io import read_image\n",
        "from torch.utils.data import Dataset\n",
        "from torchvision import transforms\n",
        "\n",
        "class CustomImageDataset(Dataset):\n",
        "    def __init__(self, annotations_file, img_dir, transform=None, target_transform=None):\n",
        "        self.img_labels = pd.read_csv(annotations_file)\n",
        "        self.img_dir = img_dir\n",
        "        self.transform = transform\n",
        "        self.target_transform = target_transform\n",
        "\n",
        "    def __len__(self):\n",
        "        return len(self.img_labels)\n",
        "\n",
        "    def __getitem__(self, idx):\n",
        "        img_path = os.path.join(self.img_dir, self.img_labels.iloc[idx, 0])\n",
        "        image = read_image(img_path)\n",
        "        label = self.img_labels.iloc[idx, 1]\n",
        "\n",
        "        if self.transform:\n",
        "            image = self.transform(image)\n",
        "\n",
        "        if self.target_transform:\n",
        "            label = self.target_transform(label)\n",
        "\n",
        "        return image, label\n",
        "\n",
        "# 이미지 변환을 정의합니다. 여기에서는 이미지 크기를 조정합니다.\n",
        "image_transform = transforms.Compose([\n",
        "    transforms.Resize((224, 224)),  # 이미지 크기를 224x224로 조정\n",
        "    transforms.ToTensor(),         # 이미지를 텐서로 변환\n",
        "])\n",
        "\n",
        "# 데이터셋을 생성할 때 이미지 변환을 적용합니다.\n",
        "training_data = CustomImageDataset(annotations_file='/content/drive/MyDrive/datacamp/train/annotations.csv',\n",
        "                             img_dir='/content/drive/MyDrive/datacamp/train',\n",
        "                             transform=image_transform)"
      ],
      "metadata": {
        "id": "_6UjIKvOH8xd"
      },
      "execution_count": null,
      "outputs": []
    },
    {
      "cell_type": "code",
      "source": [
        "from torchvision import transforms\n",
        "from PIL import Image\n",
        "import numpy as np\n",
        "\n",
        "# 이미지 및 레이블을 불러올 데이터셋을 설정합니다.\n",
        "training_data = CustomImageDataset(annotations_file='/content/drive/MyDrive/datacamp/train/annotations.csv',\n",
        "                                  img_dir='/content/drive/MyDrive/datacamp/train',\n",
        "                                  transform=None)  # 이미지 변환을 사용하지 않습니다.\n",
        "figure = plt.figure(figsize=(8, 8))\n",
        "cols, rows = 3, 3\n",
        "\n",
        "for i in range(1, cols * rows + 1):\n",
        "    sample_idx = torch.randint(len(training_data), size=(1,)).item()\n",
        "    img, label = training_data[sample_idx]\n",
        "\n",
        "    # torch.Tensor 이미지를 ndarray로 변환\n",
        "    img_np = img.permute(1, 2, 0).numpy()\n",
        "\n",
        "    # ndarray를 PIL 이미지로 변환\n",
        "    img_pil = Image.fromarray((img_np * 255).astype(np.uint8))\n",
        "\n",
        "    # 이미지를 시각화합니다.\n",
        "    figure.add_subplot(rows, cols, i)\n",
        "\n",
        "    # 이미지 파일 경로를 라벨로 사용\n",
        "    image_file_path = training_data.img_labels.iloc[sample_idx, 0]\n",
        "    folder_name = os.path.dirname(image_file_path)\n",
        "\n",
        "    plt.title(folder_name, y=1.05, fontsize=10, fontweight='bold')\n",
        "    plt.axis(\"off\")\n",
        "    plt.imshow(img_pil)\n",
        "\n",
        "plt.show()\n",
        "\n",
        "\n"
      ],
      "metadata": {
        "id": "BB_mx6VbQwG6"
      },
      "execution_count": null,
      "outputs": []
    },
    {
      "cell_type": "code",
      "source": [
        "#데이터로더 적재\n",
        "from torch.utils.data import DataLoader\n",
        "\n",
        "train_dataloader = DataLoader(training_data, batch_size=64, shuffle=True)\n",
        "train_features, train_labels = next(iter(train_dataloader))\n",
        "print(f\"Feature batch shape: {train_features.size()}\")\n",
        "print(f\"Labels batch shape: {train_labels.size()}\")\n",
        "img = train_features[0].squeeze()\n",
        "label = train_labels[0]\n",
        "plt.imshow(img, cmap=\"gray\")\n",
        "plt.show()\n",
        "print(f\"Label: {label}\")"
      ],
      "metadata": {
        "id": "AyOGhvJpXVvD"
      },
      "execution_count": null,
      "outputs": []
    },
    {
      "cell_type": "code",
      "source": [
        "(여기까지 수정)"
      ],
      "metadata": {
        "id": "QiHntySQZsWu"
      },
      "execution_count": null,
      "outputs": []
    },
    {
      "cell_type": "markdown",
      "source": [
        "(희연 코드)"
      ],
      "metadata": {
        "id": "Om0QnYol6LAL"
      }
    },
    {
      "cell_type": "code",
      "source": [
        "# 디렉토리 경로 설정 (이미지 파일이 있는 디렉토리)\n",
        "# data_directory = \"/경로/42개_디렉토리가_있는_상위_디렉토리\"\n",
        "path = \"/content/drive/MyDrive/datacamp/train\"\n",
        "\n",
        "# 빈 리스트를 생성하여 데이터(x)와 레이블(y)을 저장할 준비를 합니다.\n",
        "data = []\n",
        "labels = []\n",
        "print('1')\n",
        "# 42개의 디렉토리에 대한 루프\n",
        "for directory in os.listdir(path):\n",
        "    # 각 디렉토리에서 파일 목록을 가져옵니다.\n",
        "    directory_path = os.path.join(path, directory)\n",
        "    files = os.listdir(directory_path)\n",
        "\n",
        "    # 레이블(y)는 디렉토리 이름을 기반으로 생성합니다.\n",
        "    label = directory  # 레이블은 디렉토리 이름입니다.\n",
        "    print('2')\n",
        "    # 각 파일에 대한 루프\n",
        "    for file in files:\n",
        "        # 파일 경로 설정\n",
        "        file_path = os.path.join(directory_path, file)\n",
        "\n",
        "        # 이미지 파일을 읽어옵니다.\n",
        "        image = cv2.imread(file_path)\n",
        "        print('3')\n",
        "        # 이미지가 존재하는 경우에만 처리합니다.\n",
        "        if image is not None:\n",
        "            # 이미지 크기를 조정합니다.\n",
        "            image = cv2.resize(image, (32, 32))\n",
        "\n",
        "            # 데이터(x)에 이미지를 추가합니다.\n",
        "            data.append(image)\n",
        "\n",
        "            # 레이블(y)에 레이블 값을 추가합니다.\n",
        "            labels.append(label)\n",
        "\n",
        "# 데이터와 레이블을 NumPy 배열로 변환합니다.\n",
        "data = np.array(data)\n",
        "labels = np.array(labels)\n",
        "\n",
        "# 데이터(x)와 레이블(y)을 사용하여 분석 및 모델 학습을 위해 활용할 수 있습니다."
      ],
      "metadata": {
        "id": "k5fl0ct9XFCf"
      },
      "execution_count": null,
      "outputs": []
    },
    {
      "cell_type": "code",
      "source": [
        "data"
      ],
      "metadata": {
        "id": "FCeYhS_cfWW0"
      },
      "execution_count": null,
      "outputs": []
    },
    {
      "cell_type": "code",
      "source": [
        "labels"
      ],
      "metadata": {
        "id": "sE72y0NufYCz"
      },
      "execution_count": null,
      "outputs": []
    },
    {
      "cell_type": "markdown",
      "source": [
        "### 🔷 1-1. (2) 예시 이미지를 클래스별로 하나씩 총 42장을 한번에 시각화(plotting)하여 확인\n"
      ],
      "metadata": {
        "id": "6wF3Vk2cC-_Y"
      }
    },
    {
      "cell_type": "code",
      "source": [
        "import matplotlib.pyplot as plt"
      ],
      "metadata": {
        "id": "lj-Dr0TedjCD"
      },
      "execution_count": null,
      "outputs": []
    },
    {
      "cell_type": "markdown",
      "source": [
        "#### ☑ plotting"
      ],
      "metadata": {
        "id": "KRapfXm6R99X"
      }
    },
    {
      "cell_type": "code",
      "source": [
        "import unicodedata\n",
        "import os\n",
        "import cv2\n",
        "import numpy as np\n",
        "import matplotlib.pyplot as plt\n",
        "\n",
        "path = \"/content/drive/MyDrive/datacamp/train\"\n",
        "foods = sorted(os.listdir(path))\n",
        "foods = [*map(lambda x: unicodedata.normalize(\"NFC\", x), foods)] # mac 한글 호환 코드\n",
        "\n",
        "idx = 0\n",
        "\n",
        "fig, ax = plt.subplots(6, 7, figsize=(20, 15))\n",
        "plt.rc('font', family='NanumGothic')\n",
        "plt.rcParams['axes.unicode_minus'] = False\n",
        "fig.suptitle(\"입에서 눈물나는 K-food\", y=1.05, fontsize=40, fontweight='bold')\n",
        "\n",
        "for i in range(6):\n",
        "    for j in range(7):\n",
        "        try:\n",
        "            food = foods[idx]\n",
        "            idx += 1\n",
        "        except:\n",
        "            break  # index 값 벗어나면 끝냄\n",
        "\n",
        "        while True:\n",
        "            images = os.listdir(os.path.join(path, food))\n",
        "            if images:\n",
        "                random = np.random.choice(images)\n",
        "                img = plt.imread(os.path.join(path, food, random))\n",
        "                img = cv2.resize(img, (128, 128))\n",
        "                ax[i][j].imshow(img)\n",
        "                ax[i][j].set_title(food, pad=10, fontdict={'fontsize': 15, 'fontweight': 'bold'})\n",
        "                break\n",
        "            else:\n",
        "                # 해당 카테고리에서 이미지를 찾지 못한 경우, 다음 카테고리로 이동\n",
        "                if idx < len(foods):\n",
        "                    food = foods[idx]\n",
        "                    idx += 1\n",
        "                else:\n",
        "                    # 모든 카테고리에서 이미지를 찾지 못한 경우 종료\n",
        "                    break\n",
        "\n",
        "plt.setp(ax, xticks=[], yticks=[])\n",
        "plt.tight_layout()\n",
        "plt.show()"
      ],
      "metadata": {
        "id": "NY2oVtWx7Yxm"
      },
      "execution_count": null,
      "outputs": []
    },
    {
      "cell_type": "code",
      "source": [
        "print(len(images))\n",
        "print(len(foods))\n",
        "print(foods)\n",
        "print(images)\n"
      ],
      "metadata": {
        "id": "ZvN0jiDMPSZy"
      },
      "execution_count": null,
      "outputs": []
    },
    {
      "cell_type": "markdown",
      "source": [
        "### 🔶 1-2. (1) ResNet18 를 활용하여 42종의 클래스 분류를 수행"
      ],
      "metadata": {
        "id": "roMyp9IKDDmb"
      }
    },
    {
      "cell_type": "markdown",
      "source": [
        "#### ☑ ResNet18 Loading"
      ],
      "metadata": {
        "id": "FOiu2JYVOyFx"
      }
    },
    {
      "cell_type": "code",
      "source": [
        "# from torchvision import models\n",
        "\n",
        "# import torch.nn as nn\n",
        "# import torch.nn.functional as F\n",
        "\n",
        "# resnet_pt = models.resnet18(pretrained=True)\n",
        "# # freezing\n",
        "# # for param in resnet_pt.parameters(): ## freezing 제거하여 모델 전체를 재학습\n",
        "# #     param.requires_grad = False\n",
        "\n",
        "# # fc layer 수정\n",
        "# fc_in_features = resnet_pt.fc.in_features\n",
        "# resnet_pt.fc = nn.Linear(fc_in_features, len(foods))\n",
        "# resnet_pt = resnet_pt.to(device)"
      ],
      "metadata": {
        "id": "zrZ18FZYMXyv"
      },
      "execution_count": null,
      "outputs": []
    },
    {
      "cell_type": "code",
      "source": [
        "import torch.nn as nn\n",
        "import torchvision.models as models\n",
        "\n",
        "# Load the pretrained ResNet-18 model\n",
        "resnet_pt = models.resnet18(pretrained=True)\n",
        "\n",
        "# Modify the first convolution layer to change the number of input channels from 3 to 1\n",
        "first_conv = nn.Conv2d(3, 64, kernel_size=7, stride=2, padding=3)  # Change 3 input channels to 1\n",
        "\n",
        "# Concatenate the layers\n",
        "model = nn.Sequential(first_conv, resnet_pt)\n",
        "\n",
        "# Replace the last fully connected layer (fc)\n",
        "fc_in_features = resnet_pt.fc.in_features\n",
        "model.fc = nn.Linear(fc_in_features, len(foods))\n",
        "\n",
        "# Move the model to the device (e.g., GPU)\n",
        "model = model.to(device)"
      ],
      "metadata": {
        "id": "VxbjUswtjEEV"
      },
      "execution_count": null,
      "outputs": []
    },
    {
      "cell_type": "code",
      "source": [
        "from torchsummary import summary\n",
        "summary(model, (3,224,224)) #### 수정함\n",
        "## total parameter == trainable parameter"
      ],
      "metadata": {
        "id": "Q4Vf0neBNzq9"
      },
      "execution_count": null,
      "outputs": []
    },
    {
      "cell_type": "code",
      "source": [
        "import torch.optim as optim\n",
        "\n",
        "criterion = nn.CrossEntropyLoss()\n",
        "optimizer = optim.SGD(resnet_pt.parameters(), lr=0.001, momentum=0.9)"
      ],
      "metadata": {
        "id": "XzAl_DpbN21R"
      },
      "execution_count": null,
      "outputs": []
    },
    {
      "cell_type": "code",
      "source": [
        "resnet_pt.to(device)"
      ],
      "metadata": {
        "id": "AyT4XsqNN4xp"
      },
      "execution_count": null,
      "outputs": []
    },
    {
      "cell_type": "markdown",
      "source": [
        "#### ☑ Modeling"
      ],
      "metadata": {
        "id": "dSN2juEzYg61"
      }
    },
    {
      "cell_type": "code",
      "source": [
        "from sklearn.preprocessing import LabelEncoder\n",
        "le = LabelEncoder()\n",
        "labels = le.fit_transform(labels)"
      ],
      "metadata": {
        "id": "rtwbrhcWf7qX"
      },
      "execution_count": null,
      "outputs": []
    },
    {
      "cell_type": "code",
      "source": [
        "# Assuming you have already obtained 'data' and 'labels' as previously shown\n",
        "\n",
        "for epoch in range(200):  # Loop over the dataset multiple times\n",
        "\n",
        "    running_loss = 0.0\n",
        "    for i in range(len(data)):  # Loop over your 'data' and 'labels' arrays\n",
        "        # Get the inputs and labels from 'data' and 'labels'\n",
        "        inputs, label = data[i], labels[i]\n",
        "\n",
        "        # Prepare inputs and labels on the device\n",
        "        inputs = torch.tensor(inputs).to(device)\n",
        "        label = torch.tensor(label).to(device)\n",
        "\n",
        "        # Zero the parameter gradients\n",
        "        optimizer.zero_grad()\n",
        "\n",
        "        # Forward + backward + optimize\n",
        "        outputs = resnet_pt(inputs)\n",
        "        loss = criterion(outputs, label)\n",
        "        loss.backward()\n",
        "        optimizer.step()\n",
        "\n",
        "        # Print statistics\n",
        "        running_loss += loss.item()\n",
        "        if i % 2000 == 1999:  # Print every 2000 mini-batches\n",
        "            print(f'[{epoch + 1}, {i + 1:5d}] loss: {running_loss / 2000:.3f}')\n",
        "            running_loss = 0.0\n",
        "\n",
        "print('Finished Training')\n",
        "\n",
        "## Please note:\n",
        "## 1. You need to make sure that 'data' and 'labels' are in the correct format and that the data and labels correspond correctly.\n",
        "## 2. This assumes you have imported the necessary libraries, like 'torch' and 'criterion', and have defined 'resnet_pt', 'optimizer', and 'trainloader'.\n"
      ],
      "metadata": {
        "id": "v5pHRq8MZDTC"
      },
      "execution_count": null,
      "outputs": []
    },
    {
      "cell_type": "markdown",
      "source": [
        "### 🔶 1-2. (2) Validation 데이터에 대한 정확도를 제시\n",
        "    ●   ResNet18의 parameters는 무작위로 초기화하여 사용한다.  \n",
        "        (즉, pretrained weights는 사용할 수 없다.)  \n",
        "    ●   학습 길이는 50 epoch를 기본으로 하되 추가해도 가능하다."
      ],
      "metadata": {
        "id": "VyOIgBtwDoBb"
      }
    }
  ]
}